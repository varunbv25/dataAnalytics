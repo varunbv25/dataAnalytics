{
 "cells": [
  {
   "cell_type": "code",
   "execution_count": 1,
   "id": "137111a9",
   "metadata": {},
   "outputs": [],
   "source": [
    "import pandas as pd\n",
    "import numpy as np"
   ]
  },
  {
   "cell_type": "code",
   "execution_count": 2,
   "id": "fe3460f8",
   "metadata": {},
   "outputs": [],
   "source": [
    "df = pd.read_csv('superstore_sales.csv', encoding='utf-8-sig')"
   ]
  },
  {
   "cell_type": "code",
   "execution_count": 3,
   "id": "ca1c751f",
   "metadata": {},
   "outputs": [],
   "source": [
    "numeric_cols = ['sales', 'quantity', 'discount', 'profit', 'shipping_cost']\n",
    "for col in numeric_cols:\n",
    "    if col in df.columns:\n",
    "        df[col] = df[col].astype(str).str.replace(',', '').str.strip()\n",
    "        df[col] = pd.to_numeric(df[col], errors='coerce')"
   ]
  },
  {
   "cell_type": "code",
   "execution_count": 4,
   "id": "09399336",
   "metadata": {},
   "outputs": [],
   "source": [
    "date_cols = ['order_date', 'ship_date']\n",
    "for col in date_cols:\n",
    "    if col in df.columns:\n",
    "        df[col] = pd.to_datetime(df[col], format='%d-%m-%Y', errors='coerce')"
   ]
  },
  {
   "cell_type": "code",
   "execution_count": 5,
   "id": "74a3f4d1",
   "metadata": {},
   "outputs": [],
   "source": [
    "df = df.drop_duplicates()"
   ]
  },
  {
   "cell_type": "code",
   "execution_count": 8,
   "id": "61c8d8e6",
   "metadata": {},
   "outputs": [
    {
     "name": "stdout",
     "output_type": "stream",
     "text": [
      "order_id          0\n",
      "order_date        0\n",
      "ship_date         0\n",
      "ship_mode         0\n",
      "customer_name     0\n",
      "segment           0\n",
      "state             0\n",
      "country           0\n",
      "market            0\n",
      "region            0\n",
      "product_id        0\n",
      "category          0\n",
      "sub_category      0\n",
      "product_name      0\n",
      "sales             0\n",
      "quantity          0\n",
      "discount          0\n",
      "profit            0\n",
      "shipping_cost     0\n",
      "order_priority    0\n",
      "year              0\n",
      "dtype: int64\n"
     ]
    }
   ],
   "source": [
    "print(df.isnull().sum())"
   ]
  },
  {
   "cell_type": "code",
   "execution_count": 9,
   "id": "3f434ca4",
   "metadata": {},
   "outputs": [],
   "source": [
    "df = df.dropna(subset=['order_id', 'order_date', 'sales'])"
   ]
  },
  {
   "cell_type": "code",
   "execution_count": 10,
   "id": "5d6624a8",
   "metadata": {},
   "outputs": [],
   "source": [
    "df = df[df['quantity'] > 0]  \n",
    "df = df[df['sales'] >= 0]   "
   ]
  },
  {
   "cell_type": "code",
   "execution_count": 11,
   "id": "a5c9eea0",
   "metadata": {},
   "outputs": [],
   "source": [
    "df = df.sort_values('order_date').reset_index(drop=True)"
   ]
  },
  {
   "cell_type": "code",
   "execution_count": 13,
   "id": "abf9743e",
   "metadata": {},
   "outputs": [],
   "source": [
    "df.to_excel('D:\\\\elevateLabs\\\\dataAnalytics\\\\task8\\\\superstore_sales_cleaned.xlsx', index=False)"
   ]
  }
 ],
 "metadata": {
  "kernelspec": {
   "display_name": "Python 3",
   "language": "python",
   "name": "python3"
  },
  "language_info": {
   "codemirror_mode": {
    "name": "ipython",
    "version": 3
   },
   "file_extension": ".py",
   "mimetype": "text/x-python",
   "name": "python",
   "nbconvert_exporter": "python",
   "pygments_lexer": "ipython3",
   "version": "3.10.7"
  }
 },
 "nbformat": 4,
 "nbformat_minor": 5
}
